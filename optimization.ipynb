{
 "cells": [
  {
   "cell_type": "code",
   "execution_count": 1,
   "metadata": {},
   "outputs": [
    {
     "name": "stdout",
     "output_type": "stream",
     "text": [
      "Academic license - for non-commercial use only - expires 2022-10-25\n",
      "Using license file /Users/travistpcc/gurobi.lic\n",
      "Gurobi Optimizer version 9.1.2 build v9.1.2rc0 (mac64)\n",
      "Thread count: 4 physical cores, 8 logical processors, using up to 8 threads\n",
      "Optimize a model with 2 rows, 5002 columns and 10001 nonzeros\n",
      "Model fingerprint: 0x07088436\n",
      "Model has 1 general constraint\n",
      "Variable types: 2 continuous, 5000 integer (5000 binary)\n",
      "Coefficient statistics:\n",
      "  Matrix range     [9e-05, 1e+00]\n",
      "  Objective range  [1e+00, 1e+00]\n",
      "  Bounds range     [1e+00, 1e+00]\n",
      "  RHS range        [1e+03, 1e+03]\n",
      "Presolve removed 0 rows and 1 columns\n",
      "Presolve time: 0.03s\n",
      "Presolved: 2 rows, 5001 columns, 10001 nonzeros\n",
      "Variable types: 1 continuous, 5000 integer (5000 binary)\n",
      "Found heuristic solution: objective 71.6520377\n",
      "Found heuristic solution: objective 69.6689325\n",
      "\n",
      "Root relaxation: objective 2.177697e-01, 16 iterations, 0.00 seconds\n",
      "\n",
      "    Nodes    |    Current Node    |     Objective Bounds      |     Work\n",
      " Expl Unexpl |  Obj  Depth IntInf | Incumbent    BestBd   Gap | It/Node Time\n",
      "\n",
      "*    0     0               0       0.2177697    0.21777  0.00%     -    0s\n",
      "\n",
      "Explored 0 nodes (16 simplex iterations) in 0.11 seconds\n",
      "Thread count was 8 (of 8 available processors)\n",
      "\n",
      "Solution count 3: 0.21777 69.6689 71.652 \n",
      "\n",
      "Optimal solution found (tolerance 1.00e-04)\n",
      "Best objective 2.177696598871e-01, best bound 2.177696598871e-01, gap 0.0000%\n",
      "1000.0\n",
      "0.050217769659887126 0.05\n"
     ]
    }
   ],
   "source": [
    "from gurobipy import *\n",
    "import random\n",
    "import numpy as np\n",
    "\n",
    "SP500_Return = 0.05\n",
    "\n",
    "# Create fake returns, to be adjusted with the real data\n",
    "Stock_Size = 5000\n",
    "Stock_Returns = [random.gauss(0.12, 0.05) for i in range(Stock_Size)]\n",
    "\n",
    "# Minimum Number of Stocks to be returned from optimizer\n",
    "Desired_Stocks = 1000\n",
    "\n",
    "Stock_Indicators = {}\n",
    "\n",
    "m = Model()\n",
    "\n",
    "# create variable for each stock\n",
    "for i in range(Stock_Size):\n",
    "    Stock_Indicators[i] = m.addVar(vtype=GRB.BINARY, name=\"x\")\n",
    "\n",
    "Total_Return = m.addVar(vtype=GRB.CONTINUOUS, name=\"x\")\n",
    "Total_Return2 = m.addVar(vtype=GRB.CONTINUOUS, name=\"x\")\n",
    "\n",
    "# min stock constraint\n",
    "m.addConstr(quicksum(Stock_Indicators[i] for i in range(Stock_Size)) >= Desired_Stocks)\n",
    "\n",
    "# create objective function\n",
    "m.addConstr(Total_Return == quicksum(\n",
    "    Stock_Indicators[i] * Stock_Returns[i] for i in range(Stock_Size)) - SP500_Return * quicksum(\n",
    "    Stock_Indicators[i] for i in range(Stock_Size)))\n",
    "m.addConstr(Total_Return2 == abs_(Total_Return))\n",
    "m.setObjective(Total_Return2)\n",
    "m.optimize()\n",
    "\n",
    "Return = 0\n",
    "\n",
    "Num_Stocks = sum([Stock_Indicators[i].X for i in range(Stock_Size)])\n",
    "\n",
    "# get results\n",
    "print(Num_Stocks)\n",
    "\n",
    "for i in range(Stock_Size):\n",
    "    Return = Return + Stock_Indicators[i].X * Stock_Returns[i]\n",
    "\n",
    "print(Return / Num_Stocks, SP500_Return)\n"
   ]
  },
  {
   "cell_type": "code",
   "execution_count": 26,
   "metadata": {},
   "outputs": [
    {
     "data": {
      "text/plain": [
       "<gurobi.Var x (value 0.21776965988709662)>"
      ]
     },
     "execution_count": 26,
     "metadata": {},
     "output_type": "execute_result"
    }
   ],
   "source": [
    "Total_Return2"
   ]
  },
  {
   "cell_type": "code",
   "execution_count": null,
   "metadata": {},
   "outputs": [],
   "source": []
  }
 ],
 "metadata": {
  "kernelspec": {
   "display_name": "Python 3",
   "language": "python",
   "name": "python3"
  },
  "language_info": {
   "codemirror_mode": {
    "name": "ipython",
    "version": 3
   },
   "file_extension": ".py",
   "mimetype": "text/x-python",
   "name": "python",
   "nbconvert_exporter": "python",
   "pygments_lexer": "ipython3",
   "version": "3.8.3"
  }
 },
 "nbformat": 4,
 "nbformat_minor": 4
}
